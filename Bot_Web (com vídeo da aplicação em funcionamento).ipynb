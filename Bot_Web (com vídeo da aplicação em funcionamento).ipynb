{
 "cells": [
  {
   "cell_type": "markdown",
   "id": "7e8c9f55",
   "metadata": {},
   "source": [
    "**Automação Web com Python + Selenium**\n",
    "\n",
    "Nele utilizamos o Python para baixar o Plano de Curso do Ensino Médio, ano 2022, do Governo do Estado de Minas Gerais\n",
    "\n",
    "# Passo 1: Entrar em https://curriculoreferencia.educacao.mg.gov.br/index.php/plano-de-cursos-crmg\n",
    "\n",
    "# Passo 2: Clicar em \"ENSINO MÉDIO - MATEMÁTICA E SUAS TECNOLOGIAS\"\n",
    "\n",
    "# Passo 3: Clicar em fazer download do arquivo no Google Drive\n",
    "\n",
    "\n",
    "Esse projeto foi feito com orientação deste vídeo https://www.youtube.com/watch?v=y7OhuSGBt8o do canal  @HashtagProgramação. \n",
    "\n",
    "Nesse projeto foram usados o Jupyter, o Python, o Selenium e chromedriver."
   ]
  },
  {
   "cell_type": "code",
   "execution_count": 98,
   "id": "b05d522a",
   "metadata": {},
   "outputs": [],
   "source": [
    "from selenium.webdriver.common.by import By\n",
    "\n",
    "navegador = webdriver.Chrome ()\n",
    "\n",
    "navegador. get (\"https://curriculoreferencia.educacao.mg.gov.br/index.php/plano-de-cursos-crmg\")"
   ]
  },
  {
   "cell_type": "code",
   "execution_count": 99,
   "id": "7893e264",
   "metadata": {
    "scrolled": true
   },
   "outputs": [],
   "source": [
    "navegador.find_element(By.XPATH, value='//*[@id=\"sp-component\"]/div/article/div[2]/ul[2]/li[5]/span/span/a').click()"
   ]
  },
  {
   "cell_type": "code",
   "execution_count": 100,
   "id": "6d07a074",
   "metadata": {},
   "outputs": [],
   "source": [
    "from selenium.webdriver.common.by import By\n",
    "\n",
    "navegador = webdriver.Chrome ()\n",
    "\n",
    "navegador. get (\"https://drive.google.com/file/d/1L4Y0pvopgpy41oWwxAuWB9K3oYMqF2T6/view?usp=sharing\")"
   ]
  },
  {
   "cell_type": "code",
   "execution_count": 101,
   "id": "8e5d11b9",
   "metadata": {},
   "outputs": [],
   "source": [
    "navegador.find_element(By.XPATH, value='/html/body/div[3]/div[4]/div/div[3]/div[2]/div[2]/div[3]/div').click()"
   ]
  },
  {
   "cell_type": "markdown",
   "id": "61cb2446",
   "metadata": {},
   "source": [
    "**Assista ao vídeo da aplicação web funcionando**"
   ]
  },
  {
   "cell_type": "code",
   "execution_count": 104,
   "id": "ddd1a682",
   "metadata": {},
   "outputs": [],
   "source": [
    "from selenium.webdriver.common.by import By\n",
    "\n",
    "navegador = webdriver.Chrome ()\n",
    "\n",
    "navegador. get (\"https://www.youtube.com/watch?v=v55_eiwJVkU&t=25s\")"
   ]
  }
 ],
 "metadata": {
  "kernelspec": {
   "display_name": "Python 3 (ipykernel)",
   "language": "python",
   "name": "python3"
  },
  "language_info": {
   "codemirror_mode": {
    "name": "ipython",
    "version": 3
   },
   "file_extension": ".py",
   "mimetype": "text/x-python",
   "name": "python",
   "nbconvert_exporter": "python",
   "pygments_lexer": "ipython3",
   "version": "3.9.12"
  }
 },
 "nbformat": 4,
 "nbformat_minor": 5
}
